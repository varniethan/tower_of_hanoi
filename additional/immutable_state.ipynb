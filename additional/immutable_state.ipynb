{
  "cells": [
    {
      "metadata": {},
      "cell_type": "markdown",
      "source": "## Appendix: Immutable State\nWhen we are building searching algorithms, we need to keep track of what states we've already tried and what we are going to try next. In a basic graph search algorithm we call these the *explored* list and the *frontier* respectively. \n\nIf possible, you should always use immutable objects when we build these lists. Assuming you have followed the section on breadth first search in the [Tower of Hanoi](towerofhanoi.ipynb) notebook, then read on for a further explanation.\n\nConsider this really simple search problem. We want to find two numbers that add together to make 5. Call the two numbers `x` and `y`. We will start with both set to zero. At each step, we can add 1 to `x` or `y`.\n\nIn the code below, we use a list to store the current state, i.e. the current values of `x` and `y`. We add it to the explored list, then generate the two states that result from adding 1 to `x` or `y`. But there is a problem with the code below. Try running it: it will enter an infinite loop!"
    },
    {
      "metadata": {
        "trusted": true
      },
      "cell_type": "code",
      "source": "explored = []\nfrontier = []\n\ncurrent_values = [0, 0]\nwhile sum(current_values) != 5:\n    print(f\"Exploring state {current_values}\")\n    explored.append(current_values)\n    \n    new_state1 = current_values\n    new_state1[0] += 1\n    \n    new_state2 = current_values\n    new_state2[1] += 1\n    \n    if new_state1 not in explored and new_state1 not in frontier:\n        frontier.append(new_state1)\n    if new_state2 not in explored and new_state2 not in frontier:\n        frontier.append(new_state2)\n    \n    current_values = frontier.pop(0)\n\nx, y = current_values\nprint(f\"Solution found! {x} + {y} = 5\")\n            ",
      "execution_count": null,
      "outputs": []
    },
    {
      "metadata": {},
      "cell_type": "markdown",
      "source": "The problem here is that lists are *mutable*, their value can be changed, even if they have been assigned to a different name. Here is a simplier example to demonstrate:"
    },
    {
      "metadata": {
        "trusted": true
      },
      "cell_type": "code",
      "source": "my_list = [5, 5, 5]\n\nanother_list = my_list\nanother_list[1] = 0\n\nprint(my_list) # guess what you think the result is before running the cell",
      "execution_count": null,
      "outputs": []
    },
    {
      "metadata": {},
      "cell_type": "markdown",
      "source": "In the search code above there is only ever one value for `x` and `y`. Even though the code is assigning that list in lots of different places, only one copy of that list actually exists, and its values are being increased. The code will never generate an odd number, because every time it adds a value to `x` it also adds a value to `y`.\n\nThis will also mean that the contents of the explored states list are being modified as well (try making the code print the list of explored states if you are unconvinced). The example above will never generate the same state twice, because the numbers are always increasing. But in another example this could lead to an infinite loop where we never manage to leave the start state, because we keep generating states that we've previously visted, but haven't properly been able to keep track of. This could happen in the Tower of Hanoi problem, for example.\n\nIt is possible to ensure that the values of a list never change, but Python has a data structure which is perfect for this: the tuple. Modifying a tuple's contents is not allowed:"
    },
    {
      "metadata": {
        "trusted": true
      },
      "cell_type": "code",
      "source": "my_tuple = (5, 5, 5)\n\nanother_tuple = my_tuple # this is fine\nanother_tuple[1] = 0 # this will cause an error",
      "execution_count": null,
      "outputs": []
    },
    {
      "metadata": {},
      "cell_type": "markdown",
      "source": "So whenever possible, it is better to use a tuple than a list. If you are working with objects of other classes, then you should check whether the methods you call on those classes modify the contents or return new values. Strings, for example, are also immutable. But most containers are not.\n\n**Exercise:** try to modify the code above to fix the error by using tuples rather than lists.\n\nIf you are forced to use mutable objects for some reason, one way around this problem is to *copy* the object, probably a *deep copy*. There is a library in Python called `copy` which provides the methods `copy.copy(..)` and `copy.deepcopy(..)`. Some objects also provide a `.copy()` method. There is some sample code below, but you can read more about these other techniques online."
    },
    {
      "metadata": {
        "trusted": true
      },
      "cell_type": "code",
      "source": "# some objects provide their own .copy() method\nmy_list = [5, 5, 5]\nanother_list = my_list.copy()\nanother_list[1] = 0\nprint(my_list)",
      "execution_count": 13,
      "outputs": [
        {
          "output_type": "stream",
          "text": "[5, 5, 5]\n",
          "name": "stdout"
        }
      ]
    },
    {
      "metadata": {
        "trusted": true
      },
      "cell_type": "code",
      "source": "import copy",
      "execution_count": 14,
      "outputs": []
    },
    {
      "metadata": {
        "trusted": true
      },
      "cell_type": "code",
      "source": "# the copy module provides a function to copy arbitrary objects\nmy_list = [5, 5, 5]\nanother_list = copy.copy(my_list)\nanother_list[1] = 0\nprint(my_list)",
      "execution_count": 15,
      "outputs": [
        {
          "output_type": "stream",
          "text": "[5, 5, 5]\n",
          "name": "stdout"
        }
      ]
    },
    {
      "metadata": {
        "trusted": true
      },
      "cell_type": "code",
      "source": "# copy.copy(..) is not enough for nested lists/objects\nmy_list = [[1, 2], [3, 4], [5, 6]]\nanother_list = copy.copy(my_list)\nanother_list[1][0] = 0\nanother_list[1][1] = 0\nprint(my_list)",
      "execution_count": 16,
      "outputs": [
        {
          "output_type": "stream",
          "text": "[[1, 2], [0, 0], [5, 6]]\n",
          "name": "stdout"
        }
      ]
    },
    {
      "metadata": {
        "trusted": true
      },
      "cell_type": "code",
      "source": "# copy.deepcopy(..) is required\nmy_list = [[1, 2], [3, 4], [5, 6]]\nanother_list = copy.deepcopy(my_list)\nanother_list[1][0] = 0\nanother_list[1][1] = 0\nprint(my_list)",
      "execution_count": 17,
      "outputs": [
        {
          "output_type": "stream",
          "text": "[[1, 2], [3, 4], [5, 6]]\n",
          "name": "stdout"
        }
      ]
    }
  ],
  "metadata": {
    "kernelspec": {
      "name": "python36",
      "display_name": "Python 3.6",
      "language": "python"
    },
    "language_info": {
      "mimetype": "text/x-python",
      "nbconvert_exporter": "python",
      "name": "python",
      "pygments_lexer": "ipython3",
      "version": "3.6.6",
      "file_extension": ".py",
      "codemirror_mode": {
        "version": 3,
        "name": "ipython"
      }
    }
  },
  "nbformat": 4,
  "nbformat_minor": 1
}