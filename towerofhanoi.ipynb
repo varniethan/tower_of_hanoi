{
 "cells": [
  {
   "cell_type": "markdown",
   "metadata": {
    "collapsed": true
   },
   "source": [
    "# Uninformed Search\n",
    "*Important:* Remember to run cells to see the results. Some cells rely on cells further up the page being run, so be aware of this as you make modifications. Run each cell as you work your way down the page even if results are already showing. If something isn't working, restart the kernel, and rerun the entire notebook.\n",
    "\n",
    "## Tower of Hanoi\n",
    "### Introduction\n",
    "\n",
    "The Tower of Hanoi is a well known mathematical puzzle from 1883. You are given three pegs which hold a number of circular disks of different sizes. The disks all start on the furthest left peg, and you must move the entire tower to the furthest right peg, one disk at a time, obeying a simple rule: you may not put a disk on top of a smaller disk.\n",
    "\n",
    "<img src=\"https://upload.wikimedia.org/wikipedia/commons/0/07/Tower_of_Hanoi.jpeg\" align=center />\n",
    "\n",
    "<p style=\"text-align: center;\">Tower of Hanoi puzzle with 8 disks in its start configuration. Image from <a href=\"https://commons.wikimedia.org/w/index.php?curid=228623\">Wikimedia</a> under <a href=\"http://creativecommons.org/licenses/by-sa/3.0/\" title=\"Creative Commons Attribution-Share Alike 3.0\">CC BY-SA 3.0</a> licence.</p>\n",
    "\n",
    "### Code\n",
    "There is a Python module in this project which implements the Tower of Hanoi game called `hanoi.py`. You do not need to look at the code – you can if you wish, but I suggest working through this entire notebook once first. It contains a class called `HanoiState` which allows us to represent the state of the puzzle. When you create a new state with no additional arguments, it will create the starting state for a 5-disk puzzle:"
   ]
  },
  {
   "cell_type": "code",
   "execution_count": 13,
   "metadata": {},
   "outputs": [
    {
     "name": "stdout",
     "output_type": "stream",
     "text": [
      " 1 | |\n",
      " 2 | |\n",
      " 3 | |\n",
      " 4 | |\n",
      " 5 | |\n",
      "\n"
     ]
    }
   ],
   "source": [
    "from hanoi import HanoiState\n",
    "\n",
    "state = HanoiState()\n",
    "print(state)"
   ]
  },
  {
   "cell_type": "markdown",
   "metadata": {},
   "source": [
    "Notice that numbers are used to represent the size of the disks, with `1` being the smallest. We can provide an argument to the constructor to create a state with a different number of disks (or pegs):"
   ]
  },
  {
   "cell_type": "code",
   "execution_count": 14,
   "metadata": {},
   "outputs": [
    {
     "name": "stdout",
     "output_type": "stream",
     "text": [
      " 1 | |\n",
      " 2 | |\n",
      " 3 | |\n",
      "\n"
     ]
    }
   ],
   "source": [
    "state = HanoiState(disks=3)\n",
    "print(state)"
   ]
  },
  {
   "cell_type": "markdown",
   "metadata": {},
   "source": [
    "From any state, we can call the `possible_actions` method to find what actions are available:"
   ]
  },
  {
   "cell_type": "code",
   "execution_count": 15,
   "metadata": {},
   "outputs": [
    {
     "name": "stdout",
     "output_type": "stream",
     "text": [
      "[(0, 1), (0, 2)]\n"
     ]
    }
   ],
   "source": [
    "print(state.possible_actions())"
   ]
  },
  {
   "cell_type": "markdown",
   "metadata": {},
   "source": [
    "The `possible_actions` method returns a list of tuples. A single tuple `(x, y)` indicates that it is possible to move a disk from peg `x` to peg `y`, with the first peg being numbered `0`.\n",
    "\n",
    "We can use this information, or otherwise, to move disks around. We do this using the `next_state(from_peg, to_peg)` method."
   ]
  },
  {
   "cell_type": "code",
   "execution_count": 16,
   "metadata": {},
   "outputs": [
    {
     "name": "stdout",
     "output_type": "stream",
     "text": [
      " | | |\n",
      " 2 | |\n",
      " 3 | 1\n",
      "\n"
     ]
    }
   ],
   "source": [
    "state = state.next_state(0, 2)\n",
    "print(state)"
   ]
  },
  {
   "cell_type": "markdown",
   "metadata": {},
   "source": [
    "*Important point:* note that HanoiState objects are *immutable*. You cannot change their internal state. We had to write:\n",
    "```python\n",
    "state = state.next_state(0, 2)\n",
    "```\n",
    "\n",
    "rather than\n",
    "```python\n",
    "state.next_state(0, 2)\n",
    "```\n",
    "\n",
    "Simply calling the method and ignoring the result will not change the original object:"
   ]
  },
  {
   "cell_type": "code",
   "execution_count": 17,
   "metadata": {},
   "outputs": [
    {
     "name": "stdout",
     "output_type": "stream",
     "text": [
      " 1 | |\n",
      " 2 | |\n",
      " 3 | |\n",
      "\n"
     ]
    }
   ],
   "source": [
    "test = HanoiState(disks=3)\n",
    "test.next_state(0, 2)\n",
    "print(test)"
   ]
  },
  {
   "cell_type": "markdown",
   "metadata": {},
   "source": [
    "This is a really useful property when writing search algorithms, because it means we can keep track of which states we've seen before, and we don't have to worry about accidentally changing their internal values later. This property is explained in more detail in [a separate notebook](additional/immutable_state.ipynb), but it will be helpful to understand the basics of the breadth first search algorithm first.\n",
    "\n",
    "Back to the code. There is a method which we can call to query whether the state is a goal state: i.e. has the game been solved, are all the disks on the furthest right peg?"
   ]
  },
  {
   "cell_type": "code",
   "execution_count": 18,
   "metadata": {},
   "outputs": [
    {
     "name": "stdout",
     "output_type": "stream",
     "text": [
      " | | |\n",
      " 2 | |\n",
      " 3 | 1\n",
      "\n",
      "False\n"
     ]
    }
   ],
   "source": [
    "print(state)\n",
    "print(state.is_goal_state())"
   ]
  },
  {
   "cell_type": "markdown",
   "metadata": {},
   "source": [
    "Now let's do the full series of moves required to solve the puzzle with 3 disks:"
   ]
  },
  {
   "cell_type": "code",
   "execution_count": 19,
   "metadata": {},
   "outputs": [
    {
     "name": "stdout",
     "output_type": "stream",
     "text": [
      " | | 1\n",
      " | | 2\n",
      " | | 3\n",
      "\n",
      "True\n"
     ]
    }
   ],
   "source": [
    "state = state.next_state(0, 1)\n",
    "state = state.next_state(2, 1)\n",
    "state = state.next_state(0, 2)\n",
    "state = state.next_state(1, 0)\n",
    "state = state.next_state(1, 2)\n",
    "state = state.next_state(0, 2)\n",
    "print(state)\n",
    "print(state.is_goal_state())"
   ]
  },
  {
   "cell_type": "markdown",
   "metadata": {},
   "source": [
    "### Breadth-First Search\n",
    "Given the starting configuration with all of the disks on the first peg, we'd like to search for the final configuration, with all disks on the rightmost peg. Our real objective here is to find the *path* that actually takes us from one to the other, but as described in the videos, this is something we will easily be able to solve by working backwards once we have found it.\n",
    "\n",
    "Here is a copy of the breadth-first search algorithm, pseudocode taken from Russel and Norvig (p. 82):<br />\n",
    "<img src=\"./additional/Breadth_first_search.png\" width=60% /> <br />\n",
    "\n",
    "And here is an implementation for the Tower of Hanoi problem:"
   ]
  },
  {
   "cell_type": "code",
   "execution_count": 20,
   "metadata": {},
   "outputs": [
    {
     "name": "stdout",
     "output_type": "stream",
     "text": [
      "Solution found!\n",
      " | | 1\n",
      " | | 2\n",
      " | | 3\n",
      " | | 4\n",
      " | | 5\n",
      "\n"
     ]
    }
   ],
   "source": [
    "def breadth_first_search():\n",
    "    state = HanoiState(disks=5)\n",
    "    frontier = [state]\n",
    "    explored = []\n",
    "\n",
    "    current_state = frontier.pop(0)\n",
    "    while not current_state.is_goal_state():\n",
    "        explored.append(current_state)\n",
    "        actions = current_state.possible_actions()\n",
    "        for action in actions:\n",
    "            new_state = current_state.next_state(action[0], action[1])\n",
    "            if new_state not in explored and new_state not in frontier:\n",
    "                frontier.append(new_state)\n",
    "\n",
    "        if len(frontier) == 0:\n",
    "            return None\n",
    "\n",
    "        current_state = frontier.pop(0)\n",
    "\n",
    "    return current_state\n",
    "\n",
    "\n",
    "final_state = breadth_first_search()\n",
    "\n",
    "if final_state is None:\n",
    "    print(\"No solution found...\")\n",
    "else:\n",
    "    print(\"Solution found!\")\n",
    "    print(final_state)"
   ]
  },
  {
   "cell_type": "markdown",
   "metadata": {},
   "source": [
    "Make sure you spend a good amount of time with this code. Remember you can modify it and re-run it to see the results. You could add print statements which show the contents of the frontier at each point in the algorithm, for example.\n",
    "\n",
    "### Finding The Path\n",
    "We can make a small modification to this algorithm which will allow us to work backwards from the goal state to the start state, thereby showing us the entire sequence of moves which solves the game.\n",
    "\n",
    "`HanoiState` objects have an attribute called `parent`. When you create a state using the `next_state` method, the attribute of the new state is set automatically to point at the original state. Here is a demonstration:"
   ]
  },
  {
   "cell_type": "code",
   "execution_count": 21,
   "metadata": {},
   "outputs": [
    {
     "name": "stdout",
     "output_type": "stream",
     "text": [
      "Here is the value of state:\n",
      " | | |\n",
      " 2 | |\n",
      " 3 | 1\n",
      "\n",
      "Here is the value of state.parent\n",
      " 1 | |\n",
      " 2 | |\n",
      " 3 | |\n",
      "\n",
      "Here is the value of state.parent.parent\n",
      "None\n"
     ]
    }
   ],
   "source": [
    "state = HanoiState(disks=3)\n",
    "state = state.next_state(0, 2)\n",
    "print(\"Here is the value of state:\")\n",
    "print(state)\n",
    "print(\"Here is the value of state.parent\")\n",
    "print(state.parent)\n",
    "print(\"Here is the value of state.parent.parent\")\n",
    "print(state.parent.parent)"
   ]
  },
  {
   "cell_type": "markdown",
   "metadata": {},
   "source": [
    "So each state has a reference to its parent state, all the way back to the start state, whose `parent` attribute is set to `None`. This means that once we've found the goal state, we can easily backtrack by following the chain with something like a while loop. \n",
    "\n",
    "Here is a new version of `breadth_first_search()` which prints the entire path once the solution has been found. \n",
    "* Read the code carefully to see how it iterates through the states backwards, adding them to a list, and then prints this list backwards to obtain the result in the correct order. \n",
    "* Notice that the code also keeps track of some simple metrics that allow us to compare how efficiently the algorithm is performing: it will print the total number of states that it generates, and the total number it explores (the number of unique states it generates)."
   ]
  },
  {
   "cell_type": "code",
   "execution_count": 22,
   "metadata": {},
   "outputs": [
    {
     "name": "stdout",
     "output_type": "stream",
     "text": [
      "Solution found!\n",
      "Explored 232 states\n",
      "Generated 694 states\n",
      "\n",
      " 1 | |\n",
      " 2 | |\n",
      " 3 | |\n",
      " 4 | |\n",
      " 5 | |\n",
      "\n",
      "Move disk from peg 0 to 2\n",
      " | | |\n",
      " 2 | |\n",
      " 3 | |\n",
      " 4 | |\n",
      " 5 | 1\n",
      "\n",
      "Move disk from peg 0 to 1\n",
      " | | |\n",
      " | | |\n",
      " 3 | |\n",
      " 4 | |\n",
      " 5 2 1\n",
      "\n",
      "Move disk from peg 2 to 1\n",
      " | | |\n",
      " | | |\n",
      " 3 | |\n",
      " 4 1 |\n",
      " 5 2 |\n",
      "\n",
      "Move disk from peg 0 to 2\n",
      " | | |\n",
      " | | |\n",
      " | | |\n",
      " 4 1 |\n",
      " 5 2 3\n",
      "\n",
      "Move disk from peg 1 to 0\n",
      " | | |\n",
      " | | |\n",
      " 1 | |\n",
      " 4 | |\n",
      " 5 2 3\n",
      "\n",
      "Move disk from peg 1 to 2\n",
      " | | |\n",
      " | | |\n",
      " 1 | |\n",
      " 4 | 2\n",
      " 5 | 3\n",
      "\n",
      "Move disk from peg 0 to 2\n",
      " | | |\n",
      " | | |\n",
      " | | 1\n",
      " 4 | 2\n",
      " 5 | 3\n",
      "\n",
      "Move disk from peg 0 to 1\n",
      " | | |\n",
      " | | |\n",
      " | | 1\n",
      " | | 2\n",
      " 5 4 3\n",
      "\n",
      "Move disk from peg 2 to 1\n",
      " | | |\n",
      " | | |\n",
      " | | |\n",
      " | 1 2\n",
      " 5 4 3\n",
      "\n",
      "Move disk from peg 2 to 0\n",
      " | | |\n",
      " | | |\n",
      " | | |\n",
      " 2 1 |\n",
      " 5 4 3\n",
      "\n",
      "Move disk from peg 1 to 0\n",
      " | | |\n",
      " | | |\n",
      " 1 | |\n",
      " 2 | |\n",
      " 5 4 3\n",
      "\n",
      "Move disk from peg 2 to 1\n",
      " | | |\n",
      " | | |\n",
      " 1 | |\n",
      " 2 3 |\n",
      " 5 4 |\n",
      "\n",
      "Move disk from peg 0 to 2\n",
      " | | |\n",
      " | | |\n",
      " | | |\n",
      " 2 3 |\n",
      " 5 4 1\n",
      "\n",
      "Move disk from peg 0 to 1\n",
      " | | |\n",
      " | | |\n",
      " | 2 |\n",
      " | 3 |\n",
      " 5 4 1\n",
      "\n",
      "Move disk from peg 2 to 1\n",
      " | | |\n",
      " | 1 |\n",
      " | 2 |\n",
      " | 3 |\n",
      " 5 4 |\n",
      "\n",
      "Move disk from peg 0 to 2\n",
      " | | |\n",
      " | 1 |\n",
      " | 2 |\n",
      " | 3 |\n",
      " | 4 5\n",
      "\n",
      "Move disk from peg 1 to 0\n",
      " | | |\n",
      " | | |\n",
      " | 2 |\n",
      " | 3 |\n",
      " 1 4 5\n",
      "\n",
      "Move disk from peg 1 to 2\n",
      " | | |\n",
      " | | |\n",
      " | | |\n",
      " | 3 2\n",
      " 1 4 5\n",
      "\n",
      "Move disk from peg 0 to 2\n",
      " | | |\n",
      " | | |\n",
      " | | 1\n",
      " | 3 2\n",
      " | 4 5\n",
      "\n",
      "Move disk from peg 1 to 0\n",
      " | | |\n",
      " | | |\n",
      " | | 1\n",
      " | | 2\n",
      " 3 4 5\n",
      "\n",
      "Move disk from peg 2 to 1\n",
      " | | |\n",
      " | | |\n",
      " | | |\n",
      " | 1 2\n",
      " 3 4 5\n",
      "\n",
      "Move disk from peg 2 to 0\n",
      " | | |\n",
      " | | |\n",
      " | | |\n",
      " 2 1 |\n",
      " 3 4 5\n",
      "\n",
      "Move disk from peg 1 to 0\n",
      " | | |\n",
      " | | |\n",
      " 1 | |\n",
      " 2 | |\n",
      " 3 4 5\n",
      "\n",
      "Move disk from peg 1 to 2\n",
      " | | |\n",
      " | | |\n",
      " 1 | |\n",
      " 2 | 4\n",
      " 3 | 5\n",
      "\n",
      "Move disk from peg 0 to 2\n",
      " | | |\n",
      " | | |\n",
      " | | 1\n",
      " 2 | 4\n",
      " 3 | 5\n",
      "\n",
      "Move disk from peg 0 to 1\n",
      " | | |\n",
      " | | |\n",
      " | | 1\n",
      " | | 4\n",
      " 3 2 5\n",
      "\n",
      "Move disk from peg 2 to 1\n",
      " | | |\n",
      " | | |\n",
      " | | |\n",
      " | 1 4\n",
      " 3 2 5\n",
      "\n",
      "Move disk from peg 0 to 2\n",
      " | | |\n",
      " | | |\n",
      " | | 3\n",
      " | 1 4\n",
      " | 2 5\n",
      "\n",
      "Move disk from peg 1 to 0\n",
      " | | |\n",
      " | | |\n",
      " | | 3\n",
      " | | 4\n",
      " 1 2 5\n",
      "\n",
      "Move disk from peg 1 to 2\n",
      " | | |\n",
      " | | 2\n",
      " | | 3\n",
      " | | 4\n",
      " 1 | 5\n",
      "\n",
      "Move disk from peg 0 to 2\n",
      " | | 1\n",
      " | | 2\n",
      " | | 3\n",
      " | | 4\n",
      " | | 5\n",
      "\n",
      "Total 31 steps\n"
     ]
    }
   ],
   "source": [
    "def breadth_first_search():\n",
    "    state = HanoiState(disks=5)\n",
    "    frontier = [state]\n",
    "    explored = []\n",
    "    generated = 0\n",
    "\n",
    "    current_state = frontier.pop(0)\n",
    "    while not current_state.is_goal_state():\n",
    "        explored.append(current_state)\n",
    "        actions = current_state.possible_actions()\n",
    "        for action in actions:\n",
    "            generated += 1\n",
    "            new_state = current_state.next_state(action[0], action[1])\n",
    "            if new_state not in explored and new_state not in frontier:\n",
    "                frontier.append(new_state)\n",
    "\n",
    "        if len(frontier) == 0:\n",
    "            print(\"No solution found\")\n",
    "            return\n",
    "\n",
    "        current_state = frontier.pop(0)\n",
    "\n",
    "    print(\"Solution found!\")\n",
    "    print(f\"Explored {len(explored)} states\")\n",
    "    print(f\"Generated {generated} states\")\n",
    "    print()\n",
    "\n",
    "    final_path = []\n",
    "    while current_state.parent is not None:\n",
    "        final_path.append(current_state)\n",
    "        current_state = current_state.parent\n",
    "\n",
    "    final_path.append(current_state)\n",
    "\n",
    "    for state in reversed(final_path):\n",
    "        if state.action is not None:\n",
    "            print(f\"Move disk from peg {state.action[0]} to {state.action[1]}\")\n",
    "        print(state)\n",
    "    print(f\"Total {len(final_path)-1} steps\")\n",
    "\n",
    "breadth_first_search()"
   ]
  },
  {
   "cell_type": "markdown",
   "metadata": {},
   "source": [
    "For the Tower of Hanoi, it is known that for $n$ disks, the shortest path from the start state to the end state is $2^n-1$ moves (a total of $2^n$ states including the start state). As the result at the end of the code shows, our breadth first search found a sequence of moves which was optimal. (Notice that `len(final_path)` is the total number of states including the start state, so `len(final_path)-1` is the number of moves.)\n",
    "\n",
    "### Your Turn\n",
    "If you haven't already, try modifying the code above to produce different results. What happens if you change the number of disks, or even the number of pegs? The search space can get large quite quickly, so don't forget you can press the stop button on the toolbar to terminate a cell that has been running for too long.\n",
    "\n",
    "Breadth first search is guaranteed to find a solution with the minimum number of steps, because it checks all solutions of length $n$ before it starts trying solutions of length $n+1$. However, storing all of the unexplored states (the frontier) uses a lot of memory.\n",
    "\n",
    "We also learned about *depth first search*. In a breadth first search, the shallowest node in the frontier is expanded first, whereas in a depth first search, it is the deepest.\n",
    "\n",
    "**Exercise:** Write your own code in the cell below to perform depth first search. It can be done with a surprisingly small modification to the breadth first graph search code. This is described in more detail in the textbook. It can also be implemented with a recursive function, but this will likely be more work. \n",
    "\n",
    "Answer the following questions of your depth first search solution:\n",
    "* Is the result of optimal length (in number of steps)? \n",
    "* Does it generate more or fewer states, using the same metrics as the previous code? \n",
    "* When do you think we'd be likely to use depth first search, and when would we use breadth first?\n",
    "* If this version is not optimal, what modifications would be necessary to find an optimal result? "
   ]
  },
  {
   "cell_type": "code",
   "execution_count": 23,
   "metadata": {},
   "outputs": [],
   "source": [
    "def depth_first_search():\n",
    "    # write your code here!\n",
    "    pass"
   ]
  },
  {
   "cell_type": "markdown",
   "metadata": {},
   "source": [
    "If you are stuck, you can [click here](additional/depth_first.ipynb) to see a solution to the depth first search problem."
   ]
  }
 ],
 "metadata": {
  "kernelspec": {
   "display_name": "Python 3",
   "language": "python",
   "name": "python3"
  },
  "language_info": {
   "codemirror_mode": {
    "name": "ipython",
    "version": 3
   },
   "file_extension": ".py",
   "mimetype": "text/x-python",
   "name": "python",
   "nbconvert_exporter": "python",
   "pygments_lexer": "ipython3",
   "version": "3.7.4"
  }
 },
 "nbformat": 4,
 "nbformat_minor": 2
}
